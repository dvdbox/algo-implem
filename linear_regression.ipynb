{
 "cells": [
  {
   "cell_type": "code",
   "execution_count": 1,
   "id": "38d8593b",
   "metadata": {},
   "outputs": [],
   "source": [
    "import numpy as np\n",
    "import pandas as pd\n",
    "import matplotlib.pyplot as plt\n",
    "%matplotlib inline"
   ]
  },
  {
   "cell_type": "code",
   "execution_count": 2,
   "id": "55d891d9",
   "metadata": {},
   "outputs": [
    {
     "data": {
      "text/html": [
       "<div>\n",
       "<style scoped>\n",
       "    .dataframe tbody tr th:only-of-type {\n",
       "        vertical-align: middle;\n",
       "    }\n",
       "\n",
       "    .dataframe tbody tr th {\n",
       "        vertical-align: top;\n",
       "    }\n",
       "\n",
       "    .dataframe thead th {\n",
       "        text-align: right;\n",
       "    }\n",
       "</style>\n",
       "<table border=\"1\" class=\"dataframe\">\n",
       "  <thead>\n",
       "    <tr style=\"text-align: right;\">\n",
       "      <th></th>\n",
       "      <th>sex</th>\n",
       "      <th>sat_v</th>\n",
       "      <th>sat_m</th>\n",
       "      <th>sat_sum</th>\n",
       "      <th>hs_gpa</th>\n",
       "      <th>fy_gpa</th>\n",
       "    </tr>\n",
       "  </thead>\n",
       "  <tbody>\n",
       "    <tr>\n",
       "      <th>0</th>\n",
       "      <td>1</td>\n",
       "      <td>65</td>\n",
       "      <td>62</td>\n",
       "      <td>127</td>\n",
       "      <td>3.40</td>\n",
       "      <td>3.18</td>\n",
       "    </tr>\n",
       "    <tr>\n",
       "      <th>1</th>\n",
       "      <td>2</td>\n",
       "      <td>58</td>\n",
       "      <td>64</td>\n",
       "      <td>122</td>\n",
       "      <td>4.00</td>\n",
       "      <td>3.33</td>\n",
       "    </tr>\n",
       "    <tr>\n",
       "      <th>2</th>\n",
       "      <td>2</td>\n",
       "      <td>56</td>\n",
       "      <td>60</td>\n",
       "      <td>116</td>\n",
       "      <td>3.75</td>\n",
       "      <td>3.25</td>\n",
       "    </tr>\n",
       "    <tr>\n",
       "      <th>3</th>\n",
       "      <td>1</td>\n",
       "      <td>42</td>\n",
       "      <td>53</td>\n",
       "      <td>95</td>\n",
       "      <td>3.75</td>\n",
       "      <td>2.42</td>\n",
       "    </tr>\n",
       "    <tr>\n",
       "      <th>4</th>\n",
       "      <td>1</td>\n",
       "      <td>55</td>\n",
       "      <td>52</td>\n",
       "      <td>107</td>\n",
       "      <td>4.00</td>\n",
       "      <td>2.63</td>\n",
       "    </tr>\n",
       "    <tr>\n",
       "      <th>...</th>\n",
       "      <td>...</td>\n",
       "      <td>...</td>\n",
       "      <td>...</td>\n",
       "      <td>...</td>\n",
       "      <td>...</td>\n",
       "      <td>...</td>\n",
       "    </tr>\n",
       "    <tr>\n",
       "      <th>995</th>\n",
       "      <td>2</td>\n",
       "      <td>50</td>\n",
       "      <td>50</td>\n",
       "      <td>100</td>\n",
       "      <td>3.70</td>\n",
       "      <td>2.19</td>\n",
       "    </tr>\n",
       "    <tr>\n",
       "      <th>996</th>\n",
       "      <td>1</td>\n",
       "      <td>54</td>\n",
       "      <td>54</td>\n",
       "      <td>108</td>\n",
       "      <td>3.30</td>\n",
       "      <td>1.50</td>\n",
       "    </tr>\n",
       "    <tr>\n",
       "      <th>997</th>\n",
       "      <td>1</td>\n",
       "      <td>56</td>\n",
       "      <td>58</td>\n",
       "      <td>114</td>\n",
       "      <td>3.50</td>\n",
       "      <td>3.17</td>\n",
       "    </tr>\n",
       "    <tr>\n",
       "      <th>998</th>\n",
       "      <td>1</td>\n",
       "      <td>55</td>\n",
       "      <td>65</td>\n",
       "      <td>120</td>\n",
       "      <td>2.30</td>\n",
       "      <td>1.94</td>\n",
       "    </tr>\n",
       "    <tr>\n",
       "      <th>999</th>\n",
       "      <td>1</td>\n",
       "      <td>49</td>\n",
       "      <td>44</td>\n",
       "      <td>93</td>\n",
       "      <td>2.70</td>\n",
       "      <td>2.38</td>\n",
       "    </tr>\n",
       "  </tbody>\n",
       "</table>\n",
       "<p>1000 rows × 6 columns</p>\n",
       "</div>"
      ],
      "text/plain": [
       "     sex  sat_v  sat_m  sat_sum  hs_gpa  fy_gpa\n",
       "0      1     65     62      127    3.40    3.18\n",
       "1      2     58     64      122    4.00    3.33\n",
       "2      2     56     60      116    3.75    3.25\n",
       "3      1     42     53       95    3.75    2.42\n",
       "4      1     55     52      107    4.00    2.63\n",
       "..   ...    ...    ...      ...     ...     ...\n",
       "995    2     50     50      100    3.70    2.19\n",
       "996    1     54     54      108    3.30    1.50\n",
       "997    1     56     58      114    3.50    3.17\n",
       "998    1     55     65      120    2.30    1.94\n",
       "999    1     49     44       93    2.70    2.38\n",
       "\n",
       "[1000 rows x 6 columns]"
      ]
     },
     "execution_count": 2,
     "metadata": {},
     "output_type": "execute_result"
    }
   ],
   "source": [
    "data = pd.read_csv(\"csv files/satgpa.csv\")\n",
    "data"
   ]
  },
  {
   "cell_type": "code",
   "execution_count": 4,
   "id": "b6d29f6e",
   "metadata": {},
   "outputs": [
    {
     "data": {
      "text/plain": [
       "<matplotlib.collections.PathCollection at 0x7f0cde91c940>"
      ]
     },
     "execution_count": 4,
     "metadata": {},
     "output_type": "execute_result"
    },
    {
     "data": {
      "image/png": "[encoded data removed]",
      "text/plain": [
       "<Figure size 432x288 with 1 Axes>"
      ]
     },
     "metadata": {
      "needs_background": "light"
     },
     "output_type": "display_data"
    }
   ],
   "source": [
    "plt.scatter(data.sat_sum,data.fy_gpa)"
   ]
  },
  {
   "cell_type": "markdown",
   "id": "7474433e",
   "metadata": {},
   "source": [
    "Given a dataset, the goal of linear regression is to fit a linear model to predict a certain variable. \n",
    "\n",
    "- First, we need some metric to measure how good of a fit our current linear model is, such as a function that sums the mean squared errors (the squared distance between the predicted and observed values). \n",
    "\n",
    "- Then, we want to find the parameters that minimize this function. For this, we can perform gradient descent, an iterative algorithm that updates each parameter by subtracting the partial derivative of the mean squared errors function (a.k.a loss function) with respect to the parameter until convergence to a minima.\n",
    "\n",
    "- It is"
   ]
  },
  {
   "cell_type": "markdown",
   "id": "32eb303f",
   "metadata": {},
   "source": [
    "Hypothesis:\n",
    "$$ h_\\theta(x) = \\theta^Tx = \\theta_0 + \\theta_1 x_1 + ... + \\theta_j x_j$$\n",
    "\n",
    "Loss function:\n",
    "$$ J(\\theta) = \\frac{1}{2m} \\sum_{i=1}^m \\left( h_{\\theta}(x^{(i)}) - y^{(i)}\\right)^2$$\n",
    "\n",
    "Gradient descent:\n",
    "$$ \\theta_j = \\theta_j - \\alpha \\frac{1}{m} \\sum_{i=1}^m \\left( h_\\theta(x^{(i)}) - y^{(i)}\\right)x_j^{(i)} \\qquad \\text{simultaneously update } \\theta_j \\text{ for all } j$$"
   ]
  },
  {
   "cell_type": "markdown",
   "id": "347a0531",
   "metadata": {},
   "source": [
    "Let's try to predict the GPA using the the data we have on the SAT sum."
   ]
  },
  {
   "cell_type": "code",
   "execution_count": 154,
   "id": "17d2d4c4",
   "metadata": {},
   "outputs": [],
   "source": [
    "def loss(X, Y, theta):  # Loss function\n",
    "    \n",
    "    m = np.shape(X)[0]  # Number of training examples\n",
    "    X = np.stack([np.ones(m), X], axis=1)  # Add column of ones for theta 0\n",
    "    \n",
    "    return (1/2*m) * sum(np.power((X @ theta - Y), 2))"
   ]
  },
  {
   "cell_type": "markdown",
   "id": "a85bfe38",
   "metadata": {},
   "source": [
    "When performing gradient descent, we need to choose a learning rate $\\alpha$. This parameter controls the speed at which gradient descent occurs. If it is too small, the algorithm can be very slow and if it is too large, gradient descent can overshoot the minima, resulting in divergence. A traditional default value for the learning rate is 0.1 or 0.01, but the optimal value is different in every problem."
   ]
  },
  {
   "cell_type": "code",
   "execution_count": 178,
   "id": "7cfe4927",
   "metadata": {},
   "outputs": [],
   "source": [
    "def gradient(X, Y, theta, iter_n):  # Gradient descent\n",
    "   \n",
    "    X = np.stack([np.ones(m), X], axis=1)  # Add column of ones for the intercept (theta 0)\n",
    "    loss_history = []  # Save the loss at each iteration\n",
    "    alpha = 0.0001     # Learning rate\n",
    "    loss_history = []  # We can append the loss at each iteration to make sure\n",
    "                       # we are successfully converging\n",
    "    \n",
    "    for i in range(iter_n):\n",
    "        theta = theta - (alpha/m)*(X.T @ ((X @ theta) - Y))\n",
    "        loss_history.append(loss(data.sat_sum, Y, theta))\n",
    "    \n",
    "    return theta, loss_history"
   ]
  },
  {
   "cell_type": "code",
   "execution_count": 175,
   "id": "d4025963",
   "metadata": {},
   "outputs": [],
   "source": [
    "theta = np.array([0,0])   # Initialize the hypothesis\n",
    "theta, loss_history = gradient(data.sat_sum, data.fy_gpa, theta, 10)  # Run the algorithm"
   ]
  },
  {
   "cell_type": "markdown",
   "id": "65bf4643",
   "metadata": {},
   "source": [
    "One way to visualize what is going on is by printing the loss history\n"
   ]
  },
  {
   "cell_type": "code",
   "execution_count": 177,
   "id": "91d8b3a2",
   "metadata": {},
   "outputs": [
    {
     "name": "stdout",
     "output_type": "stream",
     "text": [
      "[240177.71964354155, 216234.35228731795, 216048.1805061303, 216046.73292634814, 216046.72167058292, 216046.72158296264, 216046.72158218065, 216046.72158207398, 216046.72158197235, 216046.72158187066]\n"
     ]
    }
   ],
   "source": [
    "print(loss_history)"
   ]
  },
  {
   "cell_type": "markdown",
   "id": "75c5f48e",
   "metadata": {},
   "source": [
    "We can see here that theta converged very quickly (this is not always the case)"
   ]
  },
  {
   "cell_type": "code",
   "execution_count": 176,
   "id": "201e75fe",
   "metadata": {},
   "outputs": [
    {
     "data": {
      "text/plain": [
       "[<matplotlib.lines.Line2D at 0x7f0cdac44d60>]"
      ]
     },
     "execution_count": 176,
     "metadata": {},
     "output_type": "execute_result"
    },
    {
     "data": {
      "image/png": "[encoded data removed]",
      "text/plain": [
       "<Figure size 432x288 with 1 Axes>"
      ]
     },
     "metadata": {
      "needs_background": "light"
     },
     "output_type": "display_data"
    }
   ],
   "source": [
    "plt.scatter(data.sat_sum,data.fy_gpa)\n",
    "plt.plot(data.sat_sum, data.sat_sum*theta[1] + theta[0], 'r')"
   ]
  },
  {
   "cell_type": "markdown",
   "id": "a4c3c224",
   "metadata": {},
   "source": [
    "By plotting the data and the linear model, we see that our gradient descent was succesful."
   ]
  }
 ],
 "metadata": {
  "kernelspec": {
   "display_name": "Python 3",
   "language": "python",
   "name": "python3"
  },
  "language_info": {
   "codemirror_mode": {
    "name": "ipython",
    "version": 3
   },
   "file_extension": ".py",
   "mimetype": "text/x-python",
   "name": "python",
   "nbconvert_exporter": "python",
   "pygments_lexer": "ipython3",
   "version": "3.8.8"
  }
 },
 "nbformat": 4,
 "nbformat_minor": 5
}
